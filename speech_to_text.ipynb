{
  "nbformat": 4,
  "nbformat_minor": 0,
  "metadata": {
    "colab": {
      "provenance": []
    },
    "kernelspec": {
      "name": "python3",
      "display_name": "Python 3"
    },
    "language_info": {
      "name": "python"
    }
  },
  "cells": [
    {
      "cell_type": "code",
      "execution_count": null,
      "metadata": {
        "id": "zjLZu9p-LykT"
      },
      "outputs": [],
      "source": [
        "pip install SpeechRecognition \n",
        "pip install PyAudio\n",
        "import speech_recognition as sr\n",
        "r = sr.Recognizer()\n",
        "with sr.Microphone() as source:\n",
        "    print(\"Talk\")\n",
        "    audio_text = r.listen(source)\n",
        "    print(\"Time's up, thanks\")\n",
        "try:\n",
        "    print(\"Text: \"+r.recognize_google(audio_text))\n",
        "except:\n",
        "     print(\"Sorry, I was not able to recognize that\")\n"
      ]
    }
  ]
}